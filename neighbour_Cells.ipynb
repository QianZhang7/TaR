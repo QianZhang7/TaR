{
 "cells": [
  {
   "cell_type": "code",
   "execution_count": 2,
   "metadata": {},
   "outputs": [],
   "source": [
    "import s2sphere\n",
    "from itertools import combinations\n",
    "from itertools import chain"
   ]
  },
  {
   "cell_type": "code",
   "execution_count": 16,
   "metadata": {},
   "outputs": [],
   "source": [
    "def find_1_neighbour(cell_id_str):\n",
    "    new_cellid =s2sphere.CellId.from_token(cell_id_str)\n",
    "    sxzy = new_cellid.get_edge_neighbors()\n",
    "    comb = combinations(sxzy,2)\n",
    "    corner = []\n",
    "    for i in comb:\n",
    "        common = list(set(i[0].get_edge_neighbors()).intersection(i[1].get_edge_neighbors()))\n",
    "        corner.append(common)\n",
    "    corner = list(chain(*corner))\n",
    "    corner = list(filter(lambda a: a != new_cellid, corner))\n",
    "    first_neighbor = list(sxzy) + corner\n",
    "    return(first_neighbor)"
   ]
  },
  {
   "cell_type": "code",
   "execution_count": 17,
   "metadata": {},
   "outputs": [],
   "source": [
    "try1 = find_1_neighbour(\"1ec55cf\")"
   ]
  },
  {
   "cell_type": "code",
   "execution_count": 18,
   "metadata": {},
   "outputs": [
    {
     "data": {
      "text/plain": [
       "[CellId: 1ec55cd000000000,\n",
       " CellId: 1ec55c9000000000,\n",
       " CellId: 1ec55c5000000000,\n",
       " CellId: 1ec55d1000000000,\n",
       " CellId: 1ec55cb000000000,\n",
       " CellId: 1ec55d3000000000,\n",
       " CellId: 1ec55c7000000000,\n",
       " CellId: 1ec55db000000000]"
      ]
     },
     "execution_count": 18,
     "metadata": {},
     "output_type": "execute_result"
    }
   ],
   "source": [
    "try1"
   ]
  },
  {
   "cell_type": "code",
   "execution_count": 21,
   "metadata": {},
   "outputs": [],
   "source": [
    "def find_2_neighbour(first_neighbor, cell_id_str):\n",
    "    new_cellid =s2sphere.CellId.from_token(cell_id_str)\n",
    "    first_sxzy = []\n",
    "    for cellid in first_neighbor:\n",
    "        first_sxzy = first_sxzy + list(cellid.get_edge_neighbors())\n",
    "    first_sxzy = list(set(first_sxzy) - set(first_neighbor))\n",
    "    first_sxzy = list(filter(lambda a: a != new_cellid, first_sxzy))\n",
    "    comb_2 = combinations(first_sxzy,2)\n",
    "    corner_2 = []\n",
    "    for i in comb_2:\n",
    "        common = list(set(i[0].get_edge_neighbors()).intersection(i[1].get_edge_neighbors()))\n",
    "        corner_2.append(common)\n",
    "    corner_2 = list(chain(*corner_2))\n",
    "    corner_2 = list(set(corner_2)- set(first_neighbor)- set(first_sxzy))\n",
    "    second_neighbor = first_sxzy + corner_2\n",
    "    return(second_neighbor)"
   ]
  },
  {
   "cell_type": "code",
   "execution_count": 23,
   "metadata": {},
   "outputs": [],
   "source": [
    "try2 = find_2_neighbour(try1, \"1ec55cf\")"
   ]
  },
  {
   "cell_type": "code",
   "execution_count": 24,
   "metadata": {},
   "outputs": [
    {
     "data": {
      "text/plain": [
       "[CellId: 1ec5433000000000,\n",
       " CellId: 1ec55b7000000000,\n",
       " CellId: 1ec55d7000000000,\n",
       " CellId: 1ec5435000000000,\n",
       " CellId: 1ec55c3000000000,\n",
       " CellId: 1ec55b5000000000,\n",
       " CellId: 1ec542d000000000,\n",
       " CellId: 1ec55d5000000000,\n",
       " CellId: 1ec55dd000000000,\n",
       " CellId: 1ec55d9000000000,\n",
       " CellId: 1ec55c1000000000,\n",
       " CellId: 1ec55b9000000000,\n",
       " CellId: 1ec544b000000000,\n",
       " CellId: 1ec542b000000000,\n",
       " CellId: 1ec55df000000000,\n",
       " CellId: 1ec55bf000000000]"
      ]
     },
     "execution_count": 24,
     "metadata": {},
     "output_type": "execute_result"
    }
   ],
   "source": [
    "try2"
   ]
  },
  {
   "cell_type": "code",
   "execution_count": null,
   "metadata": {},
   "outputs": [],
   "source": []
  }
 ],
 "metadata": {
  "kernelspec": {
   "display_name": "Python 3",
   "language": "python",
   "name": "python3"
  },
  "language_info": {
   "codemirror_mode": {
    "name": "ipython",
    "version": 3
   },
   "file_extension": ".py",
   "mimetype": "text/x-python",
   "name": "python",
   "nbconvert_exporter": "python",
   "pygments_lexer": "ipython3",
   "version": "3.5.4"
  }
 },
 "nbformat": 4,
 "nbformat_minor": 2
}
