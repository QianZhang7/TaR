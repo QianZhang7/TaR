{
 "cells": [
  {
   "cell_type": "code",
   "execution_count": 56,
   "metadata": {},
   "outputs": [],
   "source": [
    "import s2sphere\n",
    "from itertools import combinations\n",
    "from itertools import chain\n",
    "import shapefile\n",
    "import numpy as np\n",
    "from shapely.geometry import Polygon, Point, shape\n",
    "from rasterstats import zonal_stats, point_query\n",
    "import pandas as pd\n",
    "import s2sphere\n",
    "import statsmodels.api as sm\n",
    "import matplotlib.pyplot as plt\n",
    "import math"
   ]
  },
  {
   "cell_type": "code",
   "execution_count": 2,
   "metadata": {},
   "outputs": [],
   "source": [
    "def find_1_neighbour(cell_id_str):\n",
    "    new_cellid =s2sphere.CellId.from_token(cell_id_str)\n",
    "    sxzy = new_cellid.get_edge_neighbors()\n",
    "    comb = combinations(sxzy,2)\n",
    "    corner = []\n",
    "    for i in comb:\n",
    "        common = list(set(i[0].get_edge_neighbors()).intersection(i[1].get_edge_neighbors()))\n",
    "        corner.append(common)\n",
    "    corner = list(chain(*corner))\n",
    "    corner = list(filter(lambda a: a != new_cellid, corner))\n",
    "    first_neighbor = list(sxzy) + corner\n",
    "    return(first_neighbor)"
   ]
  },
  {
   "cell_type": "code",
   "execution_count": 3,
   "metadata": {},
   "outputs": [],
   "source": [
    "def find_2_neighbour(first_neighbor, cell_id_str):\n",
    "    new_cellid =s2sphere.CellId.from_token(cell_id_str)\n",
    "    first_sxzy = []\n",
    "    for cellid in first_neighbor:\n",
    "        first_sxzy = first_sxzy + list(cellid.get_edge_neighbors())\n",
    "    first_sxzy = list(set(first_sxzy) - set(first_neighbor))\n",
    "    first_sxzy = list(filter(lambda a: a != new_cellid, first_sxzy))\n",
    "    comb_2 = combinations(first_sxzy,2)\n",
    "    corner_2 = []\n",
    "    for i in comb_2:\n",
    "        common = list(set(i[0].get_edge_neighbors()).intersection(i[1].get_edge_neighbors()))\n",
    "        corner_2.append(common)\n",
    "    corner_2 = list(chain(*corner_2))\n",
    "    corner_2 = list(set(corner_2)- set(first_neighbor)- set(first_sxzy))\n",
    "    second_neighbor = first_sxzy + corner_2\n",
    "    return(second_neighbor)"
   ]
  },
  {
   "cell_type": "code",
   "execution_count": 4,
   "metadata": {},
   "outputs": [],
   "source": [
    "def s2_cov(cell_list, rasterfile):\n",
    "    values  =  []\n",
    "    for ids in cell_list[:]:\n",
    "        new_cell = s2sphere.Cell(s2sphere.CellId.from_token(str(ids)))\n",
    "        vertices = []\n",
    "        for i in range(0, 4):\n",
    "            vertex = new_cell.get_vertex(i)\n",
    "            latlng = s2sphere.LatLng.from_point(vertex)\n",
    "            vertices.append((latlng.lng().degrees,latlng.lat().degrees))\n",
    "        geo = Polygon(vertices)\n",
    "        point_est = point_query(geo.centroid, rasterfile)\n",
    "        values = values + point_est\n",
    "    return values"
   ]
  },
  {
   "cell_type": "code",
   "execution_count": 5,
   "metadata": {},
   "outputs": [],
   "source": [
    "def pop_w_neighbor(id_list, pop_raster):\n",
    "    pop = 0\n",
    "    new_id = []\n",
    "    for cellid in id_list:\n",
    "        sid = str(cellid)[8:15]\n",
    "        new_id.append(sid)\n",
    "    pop = s2_cov(new_id, pop_raster)\n",
    "    return(pop)"
   ]
  },
  {
   "cell_type": "code",
   "execution_count": 62,
   "metadata": {},
   "outputs": [],
   "source": [
    "def neighbour_pop(idlist):\n",
    "    home_pop = s2_cov(idlist, pop_raster)\n",
    "    first_pop_sum = []\n",
    "    second_pop_sum = []\n",
    "    for cell in idlist:\n",
    "        first_neighbour = find_1_neighbour(cell)\n",
    "        second_neighbour = find_2_neighbour(first_neighbour, cell)\n",
    "        first_ngb_pop = pop_w_neighbor(first_neighbour, pop_raster)\n",
    "        second_ngb_pop = pop_w_neighbor(second_neighbour, pop_raster)\n",
    "        first_ngb_pop = pd.Series(first_ngb_pop, dtype=object).fillna(0).tolist()\n",
    "        second_ngb_pop = pd.Series(second_ngb_pop, dtype=object).fillna(0).tolist()\n",
    "        first_pop_sum.append(sum(first_ngb_pop))\n",
    "        second_pop_sum.append(sum(second_ngb_pop))\n",
    "    results = pd.DataFrame({'home_pop':home_pop,'first_pop_sum':first_pop_sum})\n",
    "    return(results)"
   ]
  },
  {
   "cell_type": "code",
   "execution_count": 39,
   "metadata": {},
   "outputs": [],
   "source": [
    "def scatter_plot_with_correlation_line(x, y, graph_filepath):\n",
    "    '''\n",
    "    http://stackoverflow.com/a/34571821/395857\n",
    "    x does not have to be ordered.\n",
    "    '''\n",
    "    # Scatter plot\n",
    "    plt.scatter(x, y)\n",
    "\n",
    "    # Add correlation line\n",
    "    axes = plt.gca()\n",
    "    m, b = np.polyfit(x, y, 1)\n",
    "    X_plot = np.linspace(axes.get_xlim()[0],axes.get_xlim()[1],100)\n",
    "    plt.plot(X_plot, m*X_plot + b, '-')\n",
    "\n",
    "    # Save figure\n",
    "    plt.savefig(graph_filepath, dpi=300, format='png', bbox_inches='tight')"
   ]
  },
  {
   "cell_type": "code",
   "execution_count": 9,
   "metadata": {},
   "outputs": [],
   "source": [
    "pop_raster = \"/Users/qianzh/project/human_mobility/data/covariates/population/worldpop_total_1y_2016_00_00.tif\""
   ]
  },
  {
   "cell_type": "code",
   "execution_count": 7,
   "metadata": {},
   "outputs": [],
   "source": [
    "swaziland = pd.read_csv(\"/Users/qianzh/project/TaR/trial/swaziland/movement_home_in_Swaziland.csv\")\n",
    "swaziland_pop = neighbour_pop(swaziland['s2_id'])\n",
    "swaziland_pop['s2_id'] = swaziland['s2_id']\n",
    "swaziland_pop['prop_home'] = swaziland['prop_home']"
   ]
  },
  {
   "cell_type": "code",
   "execution_count": 41,
   "metadata": {},
   "outputs": [
    {
     "data": {
      "image/png": "[encoded data removed]",
      "text/plain": [
       "<matplotlib.figure.Figure at 0x1c232d6e10>"
      ]
     },
     "metadata": {},
     "output_type": "display_data"
    }
   ],
   "source": [
    "Y = swaziland_pop['prop_home']\n",
    "X = swaziland_pop['home_pop'] + swaziland_pop['first_pop_sum']\n",
    "scatter_plot_with_correlation_line(X, Y, \"/Users/qianzh/project/TaR/trial/swaziland_first.png\")"
   ]
  },
  {
   "cell_type": "code",
   "execution_count": 42,
   "metadata": {},
   "outputs": [
    {
     "data": {
      "image/png": "[encoded data removed]",
      "text/plain": [
       "<matplotlib.figure.Figure at 0x1c24334748>"
      ]
     },
     "metadata": {},
     "output_type": "display_data"
    }
   ],
   "source": [
    "Y2 = swaziland_pop['prop_home']\n",
    "X2 = swaziland_pop['home_pop'] + swaziland_pop['first_pop_sum'] + swaziland_pop['second_pop_sum']\n",
    "scatter_plot_with_correlation_line(X2, Y, \"/Users/qianzh/project/TaR/trial/swaziland_second.png\")"
   ]
  },
  {
   "cell_type": "code",
   "execution_count": 63,
   "metadata": {},
   "outputs": [
    {
     "name": "stderr",
     "output_type": "stream",
     "text": [
      "/Users/qianzh/anaconda3/lib/python3.5/site-packages/rasterstats/point.py:167: FutureWarning: The value of this property will change in version 1.0. Please see https://github.com/mapbox/rasterio/issues/86 for details.\n",
      "  with Raster(raster, nodata=nodata, affine=affine, band=band) as rast:\n",
      "/Users/qianzh/anaconda3/lib/python3.5/site-packages/rasterstats/io.py:242: FutureWarning: GDAL-style transforms are deprecated and will not be supported in Rasterio 1.0.\n",
      "  self.affine = guard_transform(self.src.transform)\n"
     ]
    }
   ],
   "source": [
    "south_africa = pd.read_csv(\"/Users/qianzh/project/TaR/trial/south_africa/movement_home_in_South Africa.csv\")\n",
    "south_africa_pop = neighbour_pop(south_africa['s2_id'])\n",
    "south_africa_pop['s2_id'] = south_africa['s2_id']\n",
    "south_africa_pop['prop_home'] = south_africa['prop_home']"
   ]
  },
  {
   "cell_type": "code",
   "execution_count": null,
   "metadata": {},
   "outputs": [],
   "source": [
    "first_ngb_pop = pop_w_neighbor(first_neighbour, pop_raster)"
   ]
  },
  {
   "cell_type": "code",
   "execution_count": null,
   "metadata": {},
   "outputs": [],
   "source": [
    "Y3 = south_africa_pop['prop_home']\n",
    "X3 = south_africa_pop['home_pop'] + south_africa_pop['first_pop_sum']\n",
    "scatter_plot_with_correlation_line(X3, Y3, \"/Users/qianzh/project/TaR/trial/south_africa_pop_first.png\")"
   ]
  }
 ],
 "metadata": {
  "kernelspec": {
   "display_name": "Python 3",
   "language": "python",
   "name": "python3"
  },
  "language_info": {
   "codemirror_mode": {
    "name": "ipython",
    "version": 3
   },
   "file_extension": ".py",
   "mimetype": "text/x-python",
   "name": "python",
   "nbconvert_exporter": "python",
   "pygments_lexer": "ipython3",
   "version": "3.5.4"
  }
 },
 "nbformat": 4,
 "nbformat_minor": 2
}
