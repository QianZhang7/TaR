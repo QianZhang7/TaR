{
 "cells": [
  {
   "cell_type": "code",
   "execution_count": 73,
   "metadata": {},
   "outputs": [],
   "source": [
    "import s2sphere\n",
    "from itertools import combinations\n",
    "from itertools import chain\n",
    "import shapefile\n",
    "import numpy as np\n",
    "from shapely.geometry import Polygon, Point, shape\n",
    "from rasterstats import zonal_stats, point_query\n",
    "import pandas as pd\n",
    "import s2sphere\n",
    "import statsmodels.api as sm\n",
    "import matplotlib.pyplot as plt\n",
    "import math"
   ]
  },
  {
   "cell_type": "code",
   "execution_count": 2,
   "metadata": {},
   "outputs": [],
   "source": [
    "def find_1_neighbour(cell_id_str):\n",
    "    new_cellid =s2sphere.CellId.from_token(cell_id_str)\n",
    "    sxzy = new_cellid.get_edge_neighbors()\n",
    "    comb = combinations(sxzy,2)\n",
    "    corner = []\n",
    "    for i in comb:\n",
    "        common = list(set(i[0].get_edge_neighbors()).intersection(i[1].get_edge_neighbors()))\n",
    "        corner.append(common)\n",
    "    corner = list(chain(*corner))\n",
    "    corner = list(filter(lambda a: a != new_cellid, corner))\n",
    "    first_neighbor = list(sxzy) + corner\n",
    "    return(first_neighbor)"
   ]
  },
  {
   "cell_type": "code",
   "execution_count": 3,
   "metadata": {},
   "outputs": [],
   "source": [
    "def find_2_neighbour(first_neighbor, cell_id_str):\n",
    "    new_cellid =s2sphere.CellId.from_token(cell_id_str)\n",
    "    first_sxzy = []\n",
    "    for cellid in first_neighbor:\n",
    "        first_sxzy = first_sxzy + list(cellid.get_edge_neighbors())\n",
    "    first_sxzy = list(set(first_sxzy) - set(first_neighbor))\n",
    "    first_sxzy = list(filter(lambda a: a != new_cellid, first_sxzy))\n",
    "    comb_2 = combinations(first_sxzy,2)\n",
    "    corner_2 = []\n",
    "    for i in comb_2:\n",
    "        common = list(set(i[0].get_edge_neighbors()).intersection(i[1].get_edge_neighbors()))\n",
    "        corner_2.append(common)\n",
    "    corner_2 = list(chain(*corner_2))\n",
    "    corner_2 = list(set(corner_2)- set(first_neighbor)- set(first_sxzy))\n",
    "    second_neighbor = first_sxzy + corner_2\n",
    "    return(second_neighbor)"
   ]
  },
  {
   "cell_type": "code",
   "execution_count": 4,
   "metadata": {},
   "outputs": [],
   "source": [
    "def s2_cov(cell_list, rasterfile):\n",
    "    values  =  []\n",
    "    for ids in cell_list[:]:\n",
    "        new_cell = s2sphere.Cell(s2sphere.CellId.from_token(str(ids)))\n",
    "        vertices = []\n",
    "        for i in range(0, 4):\n",
    "            vertex = new_cell.get_vertex(i)\n",
    "            latlng = s2sphere.LatLng.from_point(vertex)\n",
    "            vertices.append((latlng.lng().degrees,latlng.lat().degrees))\n",
    "        geo = Polygon(vertices)\n",
    "        point_est = point_query(geo.centroid, rasterfile)\n",
    "        values = values + point_est\n",
    "    return values"
   ]
  },
  {
   "cell_type": "code",
   "execution_count": 5,
   "metadata": {},
   "outputs": [],
   "source": [
    "def pop_w_neighbor(id_list, pop_raster):\n",
    "    pop = 0\n",
    "    new_id = []\n",
    "    for cellid in id_list:\n",
    "        sid = str(cellid)[8:15]\n",
    "        new_id.append(sid)\n",
    "    pop = s2_cov(new_id, pop_raster)\n",
    "    return(pop)"
   ]
  },
  {
   "cell_type": "code",
   "execution_count": 98,
   "metadata": {},
   "outputs": [],
   "source": [
    "def neighbour_pop(idlist):\n",
    "    home_pop = s2_cov(idlist, pop_raster)\n",
    "    first_pop_sum = []\n",
    "    second_pop_sum = []\n",
    "    for cell in idlist:\n",
    "        first_neighbour = find_1_neighbour(cell)\n",
    "        second_neighbour = find_2_neighbour(first_neighbour, cell)\n",
    "        first_ngb_pop = pop_w_neighbor(first_neighbour, pop_raster)\n",
    "        second_ngb_pop = pop_w_neighbor(second_neighbour, pop_raster)\n",
    "        first_ngb_pop = pd.Series(first_ngb_pop, dtype=object).fillna(0).tolist()\n",
    "        second_ngb_pop = pd.Series(second_ngb_pop, dtype=object).fillna(0).tolist()\n",
    "        first_pop_sum.append(sum(first_ngb_pop))\n",
    "        second_pop_sum.append(sum(second_ngb_pop))\n",
    "    results = pd.DataFrame({'home_pop':home_pop,'first_pop_sum':first_pop_sum, 'second_pop_sum':second_pop_sum})\n",
    "    return(results)"
   ]
  },
  {
   "cell_type": "code",
   "execution_count": 39,
   "metadata": {},
   "outputs": [],
   "source": [
    "def scatter_plot_with_correlation_line(x, y, graph_filepath):\n",
    "    '''\n",
    "    http://stackoverflow.com/a/34571821/395857\n",
    "    x does not have to be ordered.\n",
    "    '''\n",
    "    # Scatter plot\n",
    "    plt.scatter(x, y)\n",
    "\n",
    "    # Add correlation line\n",
    "    axes = plt.gca()\n",
    "    m, b = np.polyfit(x, y, 1)\n",
    "    X_plot = np.linspace(axes.get_xlim()[0],axes.get_xlim()[1],100)\n",
    "    plt.plot(X_plot, m*X_plot + b, '-')\n",
    "\n",
    "    # Save figure\n",
    "    plt.savefig(graph_filepath, dpi=300, format='png', bbox_inches='tight')"
   ]
  },
  {
   "cell_type": "code",
   "execution_count": 9,
   "metadata": {},
   "outputs": [],
   "source": [
    "pop_raster = \"/Users/qianzh/project/human_mobility/data/covariates/population/worldpop_total_1y_2016_00_00.tif\""
   ]
  },
  {
   "cell_type": "code",
   "execution_count": 7,
   "metadata": {},
   "outputs": [],
   "source": [
    "swaziland = pd.read_csv(\"/Users/qianzh/project/TaR/trial/swaziland/movement_home_in_Swaziland.csv\")\n",
    "swaziland_pop = neighbour_pop(swaziland['s2_id'])\n",
    "swaziland_pop['s2_id'] = swaziland['s2_id']\n",
    "swaziland_pop['prop_home'] = swaziland['prop_home']"
   ]
  },
  {
   "cell_type": "code",
   "execution_count": 66,
   "metadata": {
    "scrolled": true
   },
   "outputs": [
    {
     "data": {
      "image/png": "[encoded data removed]",
      "text/plain": [
       "<matplotlib.figure.Figure at 0x1c25554588>"
      ]
     },
     "metadata": {},
     "output_type": "display_data"
    }
   ],
   "source": [
    "Y = swaziland_pop['prop_home']\n",
    "X = swaziland_pop['home_pop']\n",
    "scatter_plot_with_correlation_line(X, Y, \"/Users/qianzh/project/TaR/trial/swaziland_home.png\")"
   ]
  },
  {
   "cell_type": "code",
   "execution_count": 74,
   "metadata": {},
   "outputs": [
    {
     "name": "stdout",
     "output_type": "stream",
     "text": [
      "                            OLS Regression Results                            \n",
      "==============================================================================\n",
      "Dep. Variable:              prop_home   R-squared:                       0.036\n",
      "Model:                            OLS   Adj. R-squared:                  0.028\n",
      "Method:                 Least Squares   F-statistic:                     4.612\n",
      "Date:                Mon, 27 Aug 2018   Prob (F-statistic):             0.0337\n",
      "Time:                        09:33:04   Log-Likelihood:                -25.334\n",
      "No. Observations:                 127   AIC:                             54.67\n",
      "Df Residuals:                     125   BIC:                             60.36\n",
      "Df Model:                           1                                         \n",
      "Covariance Type:            nonrobust                                         \n",
      "==============================================================================\n",
      "                 coef    std err          t      P>|t|      [0.025      0.975]\n",
      "------------------------------------------------------------------------------\n",
      "const          0.8140      0.037     21.975      0.000       0.741       0.887\n",
      "home_pop   -7.461e-06   3.47e-06     -2.148      0.034   -1.43e-05   -5.85e-07\n",
      "==============================================================================\n",
      "Omnibus:                       13.944   Durbin-Watson:                   0.972\n",
      "Prob(Omnibus):                  0.001   Jarque-Bera (JB):               15.436\n",
      "Skew:                          -0.822   Prob(JB):                     0.000445\n",
      "Kurtosis:                       2.539   Cond. No.                     1.49e+04\n",
      "==============================================================================\n",
      "\n",
      "Warnings:\n",
      "[1] Standard Errors assume that the covariance matrix of the errors is correctly specified.\n",
      "[2] The condition number is large, 1.49e+04. This might indicate that there are\n",
      "strong multicollinearity or other numerical problems.\n"
     ]
    }
   ],
   "source": [
    "est_model = sm.OLS(Y, sm.add_constant(X))\n",
    "est = est_model.fit()\n",
    "print(est.summary())"
   ]
  },
  {
   "cell_type": "code",
   "execution_count": 78,
   "metadata": {},
   "outputs": [
    {
     "data": {
      "image/png": "[encoded data removed]",
      "text/plain": [
       "<matplotlib.figure.Figure at 0x1c2584dcc0>"
      ]
     },
     "metadata": {},
     "output_type": "display_data"
    }
   ],
   "source": [
    "Y1 = swaziland_pop['prop_home']\n",
    "X1 = swaziland_pop['home_pop'] + swaziland_pop['first_pop_sum']\n",
    "scatter_plot_with_correlation_line(X1, Y1, \"/Users/qianzh/project/TaR/trial/swaziland_first.png\")"
   ]
  },
  {
   "cell_type": "code",
   "execution_count": 82,
   "metadata": {},
   "outputs": [
    {
     "name": "stdout",
     "output_type": "stream",
     "text": [
      "                            OLS Regression Results                            \n",
      "==============================================================================\n",
      "Dep. Variable:              prop_home   R-squared:                       0.025\n",
      "Model:                            OLS   Adj. R-squared:                  0.017\n",
      "Method:                 Least Squares   F-statistic:                     3.182\n",
      "Date:                Mon, 27 Aug 2018   Prob (F-statistic):             0.0769\n",
      "Time:                        09:46:08   Log-Likelihood:                -26.039\n",
      "No. Observations:                 127   AIC:                             56.08\n",
      "Df Residuals:                     125   BIC:                             61.77\n",
      "Df Model:                           1                                         \n",
      "Covariance Type:            nonrobust                                         \n",
      "==============================================================================\n",
      "                 coef    std err          t      P>|t|      [0.025      0.975]\n",
      "------------------------------------------------------------------------------\n",
      "const          0.8114      0.040     20.313      0.000       0.732       0.890\n",
      "0          -8.857e-07   4.97e-07     -1.784      0.077   -1.87e-06     9.7e-08\n",
      "==============================================================================\n",
      "Omnibus:                       14.338   Durbin-Watson:                   0.964\n",
      "Prob(Omnibus):                  0.001   Jarque-Bera (JB):               15.374\n",
      "Skew:                          -0.810   Prob(JB):                     0.000459\n",
      "Kurtosis:                       2.472   Cond. No.                     1.21e+05\n",
      "==============================================================================\n",
      "\n",
      "Warnings:\n",
      "[1] Standard Errors assume that the covariance matrix of the errors is correctly specified.\n",
      "[2] The condition number is large, 1.21e+05. This might indicate that there are\n",
      "strong multicollinearity or other numerical problems.\n"
     ]
    }
   ],
   "source": [
    "est1_model = sm.OLS(Y1, sm.add_constant(X1))\n",
    "est1 = est1_model.fit()\n",
    "print(est1.summary())"
   ]
  },
  {
   "cell_type": "code",
   "execution_count": 42,
   "metadata": {},
   "outputs": [
    {
     "data": {
      "image/png": "[encoded data removed]",
      "text/plain": [
       "<matplotlib.figure.Figure at 0x1c24334748>"
      ]
     },
     "metadata": {},
     "output_type": "display_data"
    }
   ],
   "source": [
    "Y2 = swaziland_pop['prop_home']\n",
    "X2 = swaziland_pop['home_pop'] + swaziland_pop['first_pop_sum'] + swaziland_pop['second_pop_sum']\n",
    "scatter_plot_with_correlation_line(X2, Y, \"/Users/qianzh/project/TaR/trial/swaziland_second.png\")"
   ]
  },
  {
   "cell_type": "code",
   "execution_count": 107,
   "metadata": {},
   "outputs": [
    {
     "name": "stdout",
     "output_type": "stream",
     "text": [
      "                            OLS Regression Results                            \n",
      "==============================================================================\n",
      "Dep. Variable:              prop_home   R-squared:                       0.009\n",
      "Model:                            OLS   Adj. R-squared:                  0.001\n",
      "Method:                 Least Squares   F-statistic:                     1.163\n",
      "Date:                Mon, 27 Aug 2018   Prob (F-statistic):              0.283\n",
      "Time:                        12:42:29   Log-Likelihood:                -27.047\n",
      "No. Observations:                 127   AIC:                             58.09\n",
      "Df Residuals:                     125   BIC:                             63.78\n",
      "Df Model:                           1                                         \n",
      "Covariance Type:            nonrobust                                         \n",
      "==============================================================================\n",
      "                 coef    std err          t      P>|t|      [0.025      0.975]\n",
      "------------------------------------------------------------------------------\n",
      "const          0.7962      0.044     18.004      0.000       0.709       0.884\n",
      "0          -2.703e-07   2.51e-07     -1.078      0.283   -7.66e-07    2.26e-07\n",
      "==============================================================================\n",
      "Omnibus:                       16.496   Durbin-Watson:                   0.954\n",
      "Prob(Omnibus):                  0.000   Jarque-Bera (JB):               15.140\n",
      "Skew:                          -0.768   Prob(JB):                     0.000516\n",
      "Kurtosis:                       2.291   Cond. No.                     2.91e+05\n",
      "==============================================================================\n",
      "\n",
      "Warnings:\n",
      "[1] Standard Errors assume that the covariance matrix of the errors is correctly specified.\n",
      "[2] The condition number is large, 2.91e+05. This might indicate that there are\n",
      "strong multicollinearity or other numerical problems.\n"
     ]
    }
   ],
   "source": [
    "est2_model = sm.OLS(Y2, sm.add_constant(X2))\n",
    "est2 = est2_model.fit()\n",
    "print(est2.summary())"
   ]
  },
  {
   "cell_type": "code",
   "execution_count": 99,
   "metadata": {},
   "outputs": [
    {
     "name": "stderr",
     "output_type": "stream",
     "text": [
      "/Users/qianzh/anaconda3/lib/python3.5/site-packages/rasterstats/point.py:167: FutureWarning: The value of this property will change in version 1.0. Please see https://github.com/mapbox/rasterio/issues/86 for details.\n",
      "  with Raster(raster, nodata=nodata, affine=affine, band=band) as rast:\n",
      "/Users/qianzh/anaconda3/lib/python3.5/site-packages/rasterstats/io.py:242: FutureWarning: GDAL-style transforms are deprecated and will not be supported in Rasterio 1.0.\n",
      "  self.affine = guard_transform(self.src.transform)\n"
     ]
    }
   ],
   "source": [
    "south_africa = pd.read_csv(\"/Users/qianzh/project/TaR/trial/south_africa/movement_home_in_South Africa.csv\")\n",
    "south_africa_pop = neighbour_pop(south_africa['s2_id'])\n",
    "south_africa_pop['s2_id'] = south_africa['s2_id']\n",
    "south_africa_pop['prop_home'] = south_africa['prop_home']"
   ]
  },
  {
   "cell_type": "code",
   "execution_count": 93,
   "metadata": {},
   "outputs": [
    {
     "name": "stderr",
     "output_type": "stream",
     "text": [
      "/Users/qianzh/anaconda3/lib/python3.5/site-packages/ipykernel_launcher.py:11: RankWarning: Polyfit may be poorly conditioned\n",
      "  # This is added back by InteractiveShellApp.init_path()\n"
     ]
    },
    {
     "data": {
      "image/png": "[encoded data removed]",
      "text/plain": [
       "<matplotlib.figure.Figure at 0x1c241c3390>"
      ]
     },
     "metadata": {},
     "output_type": "display_data"
    }
   ],
   "source": [
    "Y3 = south_africa_pop['prop_home']\n",
    "X3 = south_africa_pop['home_pop'] \n",
    "scatter_plot_with_correlation_line(X3, Y3, \"/Users/qianzh/project/TaR/trial/south_africa_pop_home.png\")"
   ]
  },
  {
   "cell_type": "code",
   "execution_count": 84,
   "metadata": {},
   "outputs": [
    {
     "name": "stdout",
     "output_type": "stream",
     "text": [
      "                            OLS Regression Results                            \n",
      "==============================================================================\n",
      "Dep. Variable:              prop_home   R-squared:                         nan\n",
      "Model:                            OLS   Adj. R-squared:                    nan\n",
      "Method:                 Least Squares   F-statistic:                       nan\n",
      "Date:                Mon, 27 Aug 2018   Prob (F-statistic):                nan\n",
      "Time:                        09:53:39   Log-Likelihood:                    nan\n",
      "No. Observations:               53411   AIC:                               nan\n",
      "Df Residuals:                   53411   BIC:                               nan\n",
      "Df Model:                          -1                                         \n",
      "Covariance Type:            nonrobust                                         \n",
      "==============================================================================\n",
      "                 coef    std err          t      P>|t|      [0.025      0.975]\n",
      "------------------------------------------------------------------------------\n",
      "const             nan        nan        nan        nan         nan         nan\n",
      "home_pop          nan        nan        nan        nan         nan         nan\n",
      "==============================================================================\n",
      "Omnibus:                          nan   Durbin-Watson:                     nan\n",
      "Prob(Omnibus):                    nan   Jarque-Bera (JB):                  nan\n",
      "Skew:                             nan   Prob(JB):                          nan\n",
      "Kurtosis:                         nan   Cond. No.                          nan\n",
      "==============================================================================\n",
      "\n",
      "Warnings:\n",
      "[1] Standard Errors assume that the covariance matrix of the errors is correctly specified.\n"
     ]
    },
    {
     "name": "stderr",
     "output_type": "stream",
     "text": [
      "/Users/qianzh/anaconda3/lib/python3.5/site-packages/statsmodels/base/data.py:131: RuntimeWarning: invalid value encountered in reduce\n",
      "  const_idx = np.where(self.exog.ptp(axis=0) == 0)[0].squeeze()\n",
      "/Users/qianzh/anaconda3/lib/python3.5/site-packages/statsmodels/tools/tools.py:346: RuntimeWarning: invalid value encountered in reduce\n",
      "  cutoff = rcond * np.maximum.reduce(s)\n",
      "/Users/qianzh/anaconda3/lib/python3.5/site-packages/numpy/core/_methods.py:26: RuntimeWarning: invalid value encountered in reduce\n",
      "  return umr_maximum(a, axis, None, out, keepdims)\n",
      "/Users/qianzh/anaconda3/lib/python3.5/site-packages/numpy/linalg/linalg.py:1647: RuntimeWarning: invalid value encountered in greater\n",
      "  return count_nonzero(S > tol, axis=-1)\n",
      "/Users/qianzh/anaconda3/lib/python3.5/site-packages/scipy/stats/_distn_infrastructure.py:879: RuntimeWarning: invalid value encountered in greater\n",
      "  return (self.a < x) & (x < self.b)\n",
      "/Users/qianzh/anaconda3/lib/python3.5/site-packages/scipy/stats/_distn_infrastructure.py:879: RuntimeWarning: invalid value encountered in less\n",
      "  return (self.a < x) & (x < self.b)\n",
      "/Users/qianzh/anaconda3/lib/python3.5/site-packages/scipy/stats/_distn_infrastructure.py:1821: RuntimeWarning: invalid value encountered in less_equal\n",
      "  cond2 = cond0 & (x <= self.a)\n"
     ]
    }
   ],
   "source": [
    "est3_model = sm.OLS(Y3, sm.add_constant(X3))\n",
    "est3 = est3_model.fit()\n",
    "print(est3.summary())"
   ]
  },
  {
   "cell_type": "code",
   "execution_count": 101,
   "metadata": {},
   "outputs": [
    {
     "name": "stderr",
     "output_type": "stream",
     "text": [
      "/Users/qianzh/anaconda3/lib/python3.5/site-packages/ipykernel_launcher.py:11: RankWarning: Polyfit may be poorly conditioned\n",
      "  # This is added back by InteractiveShellApp.init_path()\n"
     ]
    },
    {
     "data": {
      "image/png": "[encoded data removed]",
      "text/plain": [
       "<matplotlib.figure.Figure at 0x1c23f587f0>"
      ]
     },
     "metadata": {},
     "output_type": "display_data"
    }
   ],
   "source": [
    "Y4 = south_africa_pop['prop_home']\n",
    "X4 = south_africa_pop['home_pop'] + south_africa_pop['first_pop_sum']\n",
    "scatter_plot_with_correlation_line(X4, Y4, \"/Users/qianzh/project/TaR/trial/south_africa_pop_first.png\")"
   ]
  },
  {
   "cell_type": "code",
   "execution_count": 95,
   "metadata": {},
   "outputs": [
    {
     "name": "stdout",
     "output_type": "stream",
     "text": [
      "                            OLS Regression Results                            \n",
      "==============================================================================\n",
      "Dep. Variable:              prop_home   R-squared:                         nan\n",
      "Model:                            OLS   Adj. R-squared:                    nan\n",
      "Method:                 Least Squares   F-statistic:                       nan\n",
      "Date:                Mon, 27 Aug 2018   Prob (F-statistic):                nan\n",
      "Time:                        10:18:52   Log-Likelihood:                    nan\n",
      "No. Observations:               53411   AIC:                               nan\n",
      "Df Residuals:                   53411   BIC:                               nan\n",
      "Df Model:                          -1                                         \n",
      "Covariance Type:            nonrobust                                         \n",
      "==============================================================================\n",
      "                 coef    std err          t      P>|t|      [0.025      0.975]\n",
      "------------------------------------------------------------------------------\n",
      "const             nan        nan        nan        nan         nan         nan\n",
      "0                 nan        nan        nan        nan         nan         nan\n",
      "==============================================================================\n",
      "Omnibus:                          nan   Durbin-Watson:                     nan\n",
      "Prob(Omnibus):                    nan   Jarque-Bera (JB):                  nan\n",
      "Skew:                             nan   Prob(JB):                          nan\n",
      "Kurtosis:                         nan   Cond. No.                          nan\n",
      "==============================================================================\n",
      "\n",
      "Warnings:\n",
      "[1] Standard Errors assume that the covariance matrix of the errors is correctly specified.\n"
     ]
    },
    {
     "name": "stderr",
     "output_type": "stream",
     "text": [
      "/Users/qianzh/anaconda3/lib/python3.5/site-packages/statsmodels/base/data.py:131: RuntimeWarning: invalid value encountered in reduce\n",
      "  const_idx = np.where(self.exog.ptp(axis=0) == 0)[0].squeeze()\n",
      "/Users/qianzh/anaconda3/lib/python3.5/site-packages/statsmodels/tools/tools.py:346: RuntimeWarning: invalid value encountered in reduce\n",
      "  cutoff = rcond * np.maximum.reduce(s)\n",
      "/Users/qianzh/anaconda3/lib/python3.5/site-packages/numpy/core/_methods.py:26: RuntimeWarning: invalid value encountered in reduce\n",
      "  return umr_maximum(a, axis, None, out, keepdims)\n",
      "/Users/qianzh/anaconda3/lib/python3.5/site-packages/numpy/linalg/linalg.py:1647: RuntimeWarning: invalid value encountered in greater\n",
      "  return count_nonzero(S > tol, axis=-1)\n",
      "/Users/qianzh/anaconda3/lib/python3.5/site-packages/scipy/stats/_distn_infrastructure.py:879: RuntimeWarning: invalid value encountered in greater\n",
      "  return (self.a < x) & (x < self.b)\n",
      "/Users/qianzh/anaconda3/lib/python3.5/site-packages/scipy/stats/_distn_infrastructure.py:879: RuntimeWarning: invalid value encountered in less\n",
      "  return (self.a < x) & (x < self.b)\n",
      "/Users/qianzh/anaconda3/lib/python3.5/site-packages/scipy/stats/_distn_infrastructure.py:1821: RuntimeWarning: invalid value encountered in less_equal\n",
      "  cond2 = cond0 & (x <= self.a)\n"
     ]
    }
   ],
   "source": [
    "est4_model = sm.OLS(Y4, sm.add_constant(X4))\n",
    "est4 = est4_model.fit()\n",
    "print(est4.summary())"
   ]
  },
  {
   "cell_type": "code",
   "execution_count": 102,
   "metadata": {},
   "outputs": [
    {
     "name": "stderr",
     "output_type": "stream",
     "text": [
      "/Users/qianzh/anaconda3/lib/python3.5/site-packages/ipykernel_launcher.py:11: RankWarning: Polyfit may be poorly conditioned\n",
      "  # This is added back by InteractiveShellApp.init_path()\n"
     ]
    },
    {
     "data": {
      "image/png": "[encoded data removed]",
      "text/plain": [
       "<matplotlib.figure.Figure at 0x1c226d6c88>"
      ]
     },
     "metadata": {},
     "output_type": "display_data"
    }
   ],
   "source": [
    "Y5 = south_africa_pop['prop_home']\n",
    "X5 = south_africa_pop['home_pop'] + south_africa_pop['first_pop_sum'] + south_africa_pop['second_pop_sum']\n",
    "scatter_plot_with_correlation_line(X5, Y5, \"/Users/qianzh/project/TaR/trial/south_africa_pop_second.png\")"
   ]
  },
  {
   "cell_type": "code",
   "execution_count": 103,
   "metadata": {},
   "outputs": [
    {
     "name": "stdout",
     "output_type": "stream",
     "text": [
      "                            OLS Regression Results                            \n",
      "==============================================================================\n",
      "Dep. Variable:              prop_home   R-squared:                         nan\n",
      "Model:                            OLS   Adj. R-squared:                    nan\n",
      "Method:                 Least Squares   F-statistic:                       nan\n",
      "Date:                Mon, 27 Aug 2018   Prob (F-statistic):                nan\n",
      "Time:                        11:52:00   Log-Likelihood:                    nan\n",
      "No. Observations:               53411   AIC:                               nan\n",
      "Df Residuals:                   53411   BIC:                               nan\n",
      "Df Model:                          -1                                         \n",
      "Covariance Type:            nonrobust                                         \n",
      "==============================================================================\n",
      "                 coef    std err          t      P>|t|      [0.025      0.975]\n",
      "------------------------------------------------------------------------------\n",
      "const             nan        nan        nan        nan         nan         nan\n",
      "0                 nan        nan        nan        nan         nan         nan\n",
      "==============================================================================\n",
      "Omnibus:                          nan   Durbin-Watson:                     nan\n",
      "Prob(Omnibus):                    nan   Jarque-Bera (JB):                  nan\n",
      "Skew:                             nan   Prob(JB):                          nan\n",
      "Kurtosis:                         nan   Cond. No.                          nan\n",
      "==============================================================================\n",
      "\n",
      "Warnings:\n",
      "[1] Standard Errors assume that the covariance matrix of the errors is correctly specified.\n"
     ]
    },
    {
     "name": "stderr",
     "output_type": "stream",
     "text": [
      "/Users/qianzh/anaconda3/lib/python3.5/site-packages/statsmodels/base/data.py:131: RuntimeWarning: invalid value encountered in reduce\n",
      "  const_idx = np.where(self.exog.ptp(axis=0) == 0)[0].squeeze()\n",
      "/Users/qianzh/anaconda3/lib/python3.5/site-packages/statsmodels/tools/tools.py:346: RuntimeWarning: invalid value encountered in reduce\n",
      "  cutoff = rcond * np.maximum.reduce(s)\n",
      "/Users/qianzh/anaconda3/lib/python3.5/site-packages/numpy/core/_methods.py:26: RuntimeWarning: invalid value encountered in reduce\n",
      "  return umr_maximum(a, axis, None, out, keepdims)\n",
      "/Users/qianzh/anaconda3/lib/python3.5/site-packages/numpy/linalg/linalg.py:1647: RuntimeWarning: invalid value encountered in greater\n",
      "  return count_nonzero(S > tol, axis=-1)\n",
      "/Users/qianzh/anaconda3/lib/python3.5/site-packages/scipy/stats/_distn_infrastructure.py:879: RuntimeWarning: invalid value encountered in greater\n",
      "  return (self.a < x) & (x < self.b)\n",
      "/Users/qianzh/anaconda3/lib/python3.5/site-packages/scipy/stats/_distn_infrastructure.py:879: RuntimeWarning: invalid value encountered in less\n",
      "  return (self.a < x) & (x < self.b)\n",
      "/Users/qianzh/anaconda3/lib/python3.5/site-packages/scipy/stats/_distn_infrastructure.py:1821: RuntimeWarning: invalid value encountered in less_equal\n",
      "  cond2 = cond0 & (x <= self.a)\n"
     ]
    }
   ],
   "source": [
    "est5_model = sm.OLS(Y5, sm.add_constant(X5))\n",
    "est5 = est5_model.fit()\n",
    "print(est5.summary())"
   ]
  },
  {
   "cell_type": "code",
   "execution_count": 104,
   "metadata": {},
   "outputs": [
    {
     "name": "stderr",
     "output_type": "stream",
     "text": [
      "/Users/qianzh/anaconda3/lib/python3.5/site-packages/rasterstats/point.py:167: FutureWarning: The value of this property will change in version 1.0. Please see https://github.com/mapbox/rasterio/issues/86 for details.\n",
      "  with Raster(raster, nodata=nodata, affine=affine, band=band) as rast:\n",
      "/Users/qianzh/anaconda3/lib/python3.5/site-packages/rasterstats/io.py:242: FutureWarning: GDAL-style transforms are deprecated and will not be supported in Rasterio 1.0.\n",
      "  self.affine = guard_transform(self.src.transform)\n"
     ]
    }
   ],
   "source": [
    "mozambique = pd.read_csv(\"/Users/qianzh/project/TaR/trial/mozambique/movement_home_in_Mozambique.csv\")\n",
    "mozambique_pop = neighbour_pop(mozambique['s2_id'])\n",
    "mozambique_pop['s2_id'] = mozambique['s2_id']\n",
    "mozambique_pop['prop_home'] = mozambique['prop_home']"
   ]
  },
  {
   "cell_type": "code",
   "execution_count": 105,
   "metadata": {},
   "outputs": [
    {
     "name": "stderr",
     "output_type": "stream",
     "text": [
      "/Users/qianzh/anaconda3/lib/python3.5/site-packages/ipykernel_launcher.py:11: RankWarning: Polyfit may be poorly conditioned\n",
      "  # This is added back by InteractiveShellApp.init_path()\n"
     ]
    },
    {
     "data": {
      "image/png": "[encoded data removed]",
      "text/plain": [
       "<matplotlib.figure.Figure at 0x1c235bff28>"
      ]
     },
     "metadata": {},
     "output_type": "display_data"
    }
   ],
   "source": [
    "Y6 = mozambique_pop['prop_home']\n",
    "X6 = mozambique_pop['home_pop']\n",
    "scatter_plot_with_correlation_line(X6, Y6, \"/Users/qianzh/project/TaR/trial/mozambique_pop_home.png\")"
   ]
  },
  {
   "cell_type": "code",
   "execution_count": 106,
   "metadata": {},
   "outputs": [
    {
     "name": "stdout",
     "output_type": "stream",
     "text": [
      "                            OLS Regression Results                            \n",
      "==============================================================================\n",
      "Dep. Variable:              prop_home   R-squared:                         nan\n",
      "Model:                            OLS   Adj. R-squared:                    nan\n",
      "Method:                 Least Squares   F-statistic:                       nan\n",
      "Date:                Mon, 27 Aug 2018   Prob (F-statistic):                nan\n",
      "Time:                        12:42:05   Log-Likelihood:                    nan\n",
      "No. Observations:                2478   AIC:                               nan\n",
      "Df Residuals:                    2478   BIC:                               nan\n",
      "Df Model:                          -1                                         \n",
      "Covariance Type:            nonrobust                                         \n",
      "==============================================================================\n",
      "                 coef    std err          t      P>|t|      [0.025      0.975]\n",
      "------------------------------------------------------------------------------\n",
      "const             nan        nan        nan        nan         nan         nan\n",
      "home_pop          nan        nan        nan        nan         nan         nan\n",
      "==============================================================================\n",
      "Omnibus:                          nan   Durbin-Watson:                     nan\n",
      "Prob(Omnibus):                    nan   Jarque-Bera (JB):                  nan\n",
      "Skew:                             nan   Prob(JB):                          nan\n",
      "Kurtosis:                         nan   Cond. No.                          nan\n",
      "==============================================================================\n",
      "\n",
      "Warnings:\n",
      "[1] Standard Errors assume that the covariance matrix of the errors is correctly specified.\n"
     ]
    },
    {
     "name": "stderr",
     "output_type": "stream",
     "text": [
      "/Users/qianzh/anaconda3/lib/python3.5/site-packages/statsmodels/base/data.py:131: RuntimeWarning: invalid value encountered in reduce\n",
      "  const_idx = np.where(self.exog.ptp(axis=0) == 0)[0].squeeze()\n",
      "/Users/qianzh/anaconda3/lib/python3.5/site-packages/statsmodels/tools/tools.py:346: RuntimeWarning: invalid value encountered in reduce\n",
      "  cutoff = rcond * np.maximum.reduce(s)\n",
      "/Users/qianzh/anaconda3/lib/python3.5/site-packages/numpy/core/_methods.py:26: RuntimeWarning: invalid value encountered in reduce\n",
      "  return umr_maximum(a, axis, None, out, keepdims)\n",
      "/Users/qianzh/anaconda3/lib/python3.5/site-packages/numpy/linalg/linalg.py:1647: RuntimeWarning: invalid value encountered in greater\n",
      "  return count_nonzero(S > tol, axis=-1)\n",
      "/Users/qianzh/anaconda3/lib/python3.5/site-packages/scipy/stats/_distn_infrastructure.py:879: RuntimeWarning: invalid value encountered in greater\n",
      "  return (self.a < x) & (x < self.b)\n",
      "/Users/qianzh/anaconda3/lib/python3.5/site-packages/scipy/stats/_distn_infrastructure.py:879: RuntimeWarning: invalid value encountered in less\n",
      "  return (self.a < x) & (x < self.b)\n",
      "/Users/qianzh/anaconda3/lib/python3.5/site-packages/scipy/stats/_distn_infrastructure.py:1821: RuntimeWarning: invalid value encountered in less_equal\n",
      "  cond2 = cond0 & (x <= self.a)\n"
     ]
    }
   ],
   "source": [
    "est6_model = sm.OLS(Y6, sm.add_constant(X6))\n",
    "est6 = est6_model.fit()\n",
    "print(est6.summary())"
   ]
  },
  {
   "cell_type": "code",
   "execution_count": 108,
   "metadata": {},
   "outputs": [
    {
     "name": "stderr",
     "output_type": "stream",
     "text": [
      "/Users/qianzh/anaconda3/lib/python3.5/site-packages/ipykernel_launcher.py:11: RankWarning: Polyfit may be poorly conditioned\n",
      "  # This is added back by InteractiveShellApp.init_path()\n"
     ]
    },
    {
     "data": {
      "image/png": "[encoded data removed]",
      "text/plain": [
       "<matplotlib.figure.Figure at 0x1c235d7b38>"
      ]
     },
     "metadata": {},
     "output_type": "display_data"
    }
   ],
   "source": [
    "Y7 = mozambique_pop['prop_home']\n",
    "X7 = mozambique_pop['home_pop'] + mozambique_pop['first_pop_sum']\n",
    "scatter_plot_with_correlation_line(X7, Y7, \"/Users/qianzh/project/TaR/trial/mozambique_pop_first.png\")"
   ]
  },
  {
   "cell_type": "code",
   "execution_count": 109,
   "metadata": {},
   "outputs": [
    {
     "name": "stdout",
     "output_type": "stream",
     "text": [
      "                            OLS Regression Results                            \n",
      "==============================================================================\n",
      "Dep. Variable:              prop_home   R-squared:                         nan\n",
      "Model:                            OLS   Adj. R-squared:                    nan\n",
      "Method:                 Least Squares   F-statistic:                       nan\n",
      "Date:                Mon, 27 Aug 2018   Prob (F-statistic):                nan\n",
      "Time:                        12:44:17   Log-Likelihood:                    nan\n",
      "No. Observations:                2478   AIC:                               nan\n",
      "Df Residuals:                    2478   BIC:                               nan\n",
      "Df Model:                          -1                                         \n",
      "Covariance Type:            nonrobust                                         \n",
      "==============================================================================\n",
      "                 coef    std err          t      P>|t|      [0.025      0.975]\n",
      "------------------------------------------------------------------------------\n",
      "const             nan        nan        nan        nan         nan         nan\n",
      "0                 nan        nan        nan        nan         nan         nan\n",
      "==============================================================================\n",
      "Omnibus:                          nan   Durbin-Watson:                     nan\n",
      "Prob(Omnibus):                    nan   Jarque-Bera (JB):                  nan\n",
      "Skew:                             nan   Prob(JB):                          nan\n",
      "Kurtosis:                         nan   Cond. No.                          nan\n",
      "==============================================================================\n",
      "\n",
      "Warnings:\n",
      "[1] Standard Errors assume that the covariance matrix of the errors is correctly specified.\n"
     ]
    },
    {
     "name": "stderr",
     "output_type": "stream",
     "text": [
      "/Users/qianzh/anaconda3/lib/python3.5/site-packages/statsmodels/base/data.py:131: RuntimeWarning: invalid value encountered in reduce\n",
      "  const_idx = np.where(self.exog.ptp(axis=0) == 0)[0].squeeze()\n",
      "/Users/qianzh/anaconda3/lib/python3.5/site-packages/statsmodels/tools/tools.py:346: RuntimeWarning: invalid value encountered in reduce\n",
      "  cutoff = rcond * np.maximum.reduce(s)\n",
      "/Users/qianzh/anaconda3/lib/python3.5/site-packages/numpy/core/_methods.py:26: RuntimeWarning: invalid value encountered in reduce\n",
      "  return umr_maximum(a, axis, None, out, keepdims)\n",
      "/Users/qianzh/anaconda3/lib/python3.5/site-packages/numpy/linalg/linalg.py:1647: RuntimeWarning: invalid value encountered in greater\n",
      "  return count_nonzero(S > tol, axis=-1)\n",
      "/Users/qianzh/anaconda3/lib/python3.5/site-packages/scipy/stats/_distn_infrastructure.py:879: RuntimeWarning: invalid value encountered in greater\n",
      "  return (self.a < x) & (x < self.b)\n",
      "/Users/qianzh/anaconda3/lib/python3.5/site-packages/scipy/stats/_distn_infrastructure.py:879: RuntimeWarning: invalid value encountered in less\n",
      "  return (self.a < x) & (x < self.b)\n",
      "/Users/qianzh/anaconda3/lib/python3.5/site-packages/scipy/stats/_distn_infrastructure.py:1821: RuntimeWarning: invalid value encountered in less_equal\n",
      "  cond2 = cond0 & (x <= self.a)\n"
     ]
    }
   ],
   "source": [
    "est7_model = sm.OLS(Y7, sm.add_constant(X7))\n",
    "est7 = est7_model.fit()\n",
    "print(est7.summary())"
   ]
  },
  {
   "cell_type": "code",
   "execution_count": 110,
   "metadata": {},
   "outputs": [
    {
     "name": "stderr",
     "output_type": "stream",
     "text": [
      "/Users/qianzh/anaconda3/lib/python3.5/site-packages/ipykernel_launcher.py:11: RankWarning: Polyfit may be poorly conditioned\n",
      "  # This is added back by InteractiveShellApp.init_path()\n"
     ]
    },
    {
     "data": {
      "image/png": "[encoded data removed]",
      "text/plain": [
       "<matplotlib.figure.Figure at 0x1c23d03dd8>"
      ]
     },
     "metadata": {},
     "output_type": "display_data"
    }
   ],
   "source": [
    "Y8 = mozambique_pop['prop_home']\n",
    "X8 = mozambique_pop['home_pop'] + mozambique_pop['first_pop_sum'] + mozambique_pop['second_pop_sum']\n",
    "scatter_plot_with_correlation_line(X8, Y8, \"/Users/qianzh/project/TaR/trial/mozambique_pop_second.png\")"
   ]
  },
  {
   "cell_type": "code",
   "execution_count": 111,
   "metadata": {},
   "outputs": [
    {
     "name": "stdout",
     "output_type": "stream",
     "text": [
      "                            OLS Regression Results                            \n",
      "==============================================================================\n",
      "Dep. Variable:              prop_home   R-squared:                         nan\n",
      "Model:                            OLS   Adj. R-squared:                    nan\n",
      "Method:                 Least Squares   F-statistic:                       nan\n",
      "Date:                Mon, 27 Aug 2018   Prob (F-statistic):                nan\n",
      "Time:                        12:46:26   Log-Likelihood:                    nan\n",
      "No. Observations:                2478   AIC:                               nan\n",
      "Df Residuals:                    2478   BIC:                               nan\n",
      "Df Model:                          -1                                         \n",
      "Covariance Type:            nonrobust                                         \n",
      "==============================================================================\n",
      "                 coef    std err          t      P>|t|      [0.025      0.975]\n",
      "------------------------------------------------------------------------------\n",
      "const             nan        nan        nan        nan         nan         nan\n",
      "0                 nan        nan        nan        nan         nan         nan\n",
      "==============================================================================\n",
      "Omnibus:                          nan   Durbin-Watson:                     nan\n",
      "Prob(Omnibus):                    nan   Jarque-Bera (JB):                  nan\n",
      "Skew:                             nan   Prob(JB):                          nan\n",
      "Kurtosis:                         nan   Cond. No.                          nan\n",
      "==============================================================================\n",
      "\n",
      "Warnings:\n",
      "[1] Standard Errors assume that the covariance matrix of the errors is correctly specified.\n"
     ]
    },
    {
     "name": "stderr",
     "output_type": "stream",
     "text": [
      "/Users/qianzh/anaconda3/lib/python3.5/site-packages/statsmodels/base/data.py:131: RuntimeWarning: invalid value encountered in reduce\n",
      "  const_idx = np.where(self.exog.ptp(axis=0) == 0)[0].squeeze()\n",
      "/Users/qianzh/anaconda3/lib/python3.5/site-packages/statsmodels/tools/tools.py:346: RuntimeWarning: invalid value encountered in reduce\n",
      "  cutoff = rcond * np.maximum.reduce(s)\n",
      "/Users/qianzh/anaconda3/lib/python3.5/site-packages/numpy/core/_methods.py:26: RuntimeWarning: invalid value encountered in reduce\n",
      "  return umr_maximum(a, axis, None, out, keepdims)\n",
      "/Users/qianzh/anaconda3/lib/python3.5/site-packages/numpy/linalg/linalg.py:1647: RuntimeWarning: invalid value encountered in greater\n",
      "  return count_nonzero(S > tol, axis=-1)\n",
      "/Users/qianzh/anaconda3/lib/python3.5/site-packages/scipy/stats/_distn_infrastructure.py:879: RuntimeWarning: invalid value encountered in greater\n",
      "  return (self.a < x) & (x < self.b)\n",
      "/Users/qianzh/anaconda3/lib/python3.5/site-packages/scipy/stats/_distn_infrastructure.py:879: RuntimeWarning: invalid value encountered in less\n",
      "  return (self.a < x) & (x < self.b)\n",
      "/Users/qianzh/anaconda3/lib/python3.5/site-packages/scipy/stats/_distn_infrastructure.py:1821: RuntimeWarning: invalid value encountered in less_equal\n",
      "  cond2 = cond0 & (x <= self.a)\n"
     ]
    }
   ],
   "source": [
    "est8_model = sm.OLS(Y8, sm.add_constant(X8))\n",
    "est8 = est8_model.fit()\n",
    "print(est8.summary())"
   ]
  },
  {
   "cell_type": "code",
   "execution_count": null,
   "metadata": {},
   "outputs": [],
   "source": []
  }
 ],
 "metadata": {
  "kernelspec": {
   "display_name": "Python 3",
   "language": "python",
   "name": "python3"
  },
  "language_info": {
   "codemirror_mode": {
    "name": "ipython",
    "version": 3
   },
   "file_extension": ".py",
   "mimetype": "text/x-python",
   "name": "python",
   "nbconvert_exporter": "python",
   "pygments_lexer": "ipython3",
   "version": "3.5.4"
  }
 },
 "nbformat": 4,
 "nbformat_minor": 2
}
